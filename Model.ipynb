{
  "nbformat": 4,
  "nbformat_minor": 0,
  "metadata": {
    "colab": {
      "provenance": []
    },
    "kernelspec": {
      "name": "python3",
      "display_name": "Python 3"
    },
    "language_info": {
      "name": "python"
    }
  },
  "cells": [
    {
      "cell_type": "code",
      "execution_count": null,
      "metadata": {
        "colab": {
          "base_uri": "https://localhost:8080/"
        },
        "id": "Zy9VTUUUmBCr",
        "outputId": "f1c38126-2db4-47c1-e366-43f318a36ce7"
      },
      "outputs": [
        {
          "output_type": "stream",
          "name": "stdout",
          "text": [
            "Mounted at /content/drive/\n"
          ]
        }
      ],
      "source": [
        "from google.colab import drive\n",
        "drive.mount(\"/content/drive/\")"
      ]
    },
    {
      "cell_type": "code",
      "source": [
        "import numpy as np\n",
        "import matplotlib.pyplot as plt\n",
        "import glob\n",
        "import shutil\n",
        "\n",
        "import tensorflow as tf\n",
        "from tensorflow.keras import layers"
      ],
      "metadata": {
        "id": "78nhnAflmIgw"
      },
      "execution_count": null,
      "outputs": []
    },
    {
      "cell_type": "code",
      "source": [
        "TRAIN_DIR = \"/content/drive/MyDrive/White Noise project/aataset/clean_train\"\n",
        "TEST_DIR = \"/content/drive/MyDrive/White Noise project/aataset/clean_test\"\n",
        "\n",
        "BATCH_SIZE = 2\n",
        "EPOCHS = 10\n",
        "DATA_LEN = 2500"
      ],
      "metadata": {
        "id": "iZfOVe0FoIX_"
      },
      "execution_count": null,
      "outputs": []
    },
    {
      "cell_type": "code",
      "source": [
        "train_images = glob.glob(TRAIN_DIR+\"/*\")\n",
        "test_images = glob.glob(TEST_DIR+\"/*\")"
      ],
      "metadata": {
        "id": "2-HdTdjZpBjs"
      },
      "execution_count": null,
      "outputs": []
    },
    {
      "cell_type": "code",
      "source": [
        "def down_sample_gen(neuran, input):\n",
        "\n",
        "    lstm0 = layers.LSTM(neuran, return_sequences=True)(input)\n",
        "    lstm1 = layers.LSTM(neuran, return_sequences=True)(input)\n",
        "    attention = layers.Attention()([lstm0, lstm1])\n",
        "\n",
        "    return attention"
      ],
      "metadata": {
        "id": "mAncJaTpoaKE"
      },
      "execution_count": null,
      "outputs": []
    },
    {
      "cell_type": "code",
      "source": [
        "def up_sample_gen(neuran, input, layer):\n",
        "\n",
        "    c = tf.keras.layers.concatenate([input, layer], axis = 2)\n",
        "    lstm0 = layers.LSTM(neuran, return_sequences=True)(input)\n",
        "    lstm1 = layers.LSTM(neuran, return_sequences=True)(input)\n",
        "    attention = layers.Attention()([lstm0, lstm1])\n",
        "\n",
        "    return attention"
      ],
      "metadata": {
        "id": "i1WvZ3KV2Ier"
      },
      "execution_count": null,
      "outputs": []
    },
    {
      "cell_type": "code",
      "source": [
        "def build_generator():\n",
        "\n",
        "    input_layer = tf.keras.Input(shape=( 64, 2))\n",
        "\n",
        "    ds0 = down_sample_gen(32, input_layer)\n",
        "\n",
        "    ds1 = down_sample_gen(64, ds0)\n",
        "\n",
        "    u0 = layers.LSTM(128, return_sequences=True)(ds1)\n",
        "    u1 = layers.LSTM(128, return_sequences=True)(u0)\n",
        "\n",
        "    us0 = up_sample_gen(64, u1, ds1)\n",
        "\n",
        "    us1 = up_sample_gen(32, us0, ds0)\n",
        "\n",
        "    o = layers.LSTM(16, return_sequences = True)(us1)\n",
        "\n",
        "    return tf.keras.Model(inputs=input_layer, outputs=us1)"
      ],
      "metadata": {
        "id": "lYfQu96puBQb"
      },
      "execution_count": null,
      "outputs": []
    },
    {
      "cell_type": "code",
      "source": [
        "generator = build_generator()"
      ],
      "metadata": {
        "id": "6r2oPOnf2d-7"
      },
      "execution_count": null,
      "outputs": []
    },
    {
      "cell_type": "code",
      "source": [
        "generator.summary()"
      ],
      "metadata": {
        "colab": {
          "base_uri": "https://localhost:8080/"
        },
        "id": "-xa1gl0j2yeZ",
        "outputId": "8f16ab0e-dc28-41bc-96df-0a429ff406b0"
      },
      "execution_count": null,
      "outputs": [
        {
          "output_type": "stream",
          "name": "stdout",
          "text": [
            "Model: \"model_1\"\n",
            "__________________________________________________________________________________________________\n",
            " Layer (type)                Output Shape                 Param #   Connected to                  \n",
            "==================================================================================================\n",
            " input_3 (InputLayer)        [(None, 64, 2)]              0         []                            \n",
            "                                                                                                  \n",
            " lstm_13 (LSTM)              (None, 64, 32)               4480      ['input_3[0][0]']             \n",
            "                                                                                                  \n",
            " lstm_14 (LSTM)              (None, 64, 32)               4480      ['input_3[0][0]']             \n",
            "                                                                                                  \n",
            " attention_5 (Attention)     (None, 64, 32)               0         ['lstm_13[0][0]',             \n",
            "                                                                     'lstm_14[0][0]']             \n",
            "                                                                                                  \n",
            " lstm_15 (LSTM)              (None, 64, 64)               24832     ['attention_5[0][0]']         \n",
            "                                                                                                  \n",
            " lstm_16 (LSTM)              (None, 64, 64)               24832     ['attention_5[0][0]']         \n",
            "                                                                                                  \n",
            " attention_6 (Attention)     (None, 64, 64)               0         ['lstm_15[0][0]',             \n",
            "                                                                     'lstm_16[0][0]']             \n",
            "                                                                                                  \n",
            " lstm_17 (LSTM)              (None, 64, 128)              98816     ['attention_6[0][0]']         \n",
            "                                                                                                  \n",
            " lstm_18 (LSTM)              (None, 64, 128)              131584    ['lstm_17[0][0]']             \n",
            "                                                                                                  \n",
            " lstm_19 (LSTM)              (None, 64, 64)               49408     ['lstm_18[0][0]']             \n",
            "                                                                                                  \n",
            " lstm_20 (LSTM)              (None, 64, 64)               49408     ['lstm_18[0][0]']             \n",
            "                                                                                                  \n",
            " attention_7 (Attention)     (None, 64, 64)               0         ['lstm_19[0][0]',             \n",
            "                                                                     'lstm_20[0][0]']             \n",
            "                                                                                                  \n",
            " lstm_21 (LSTM)              (None, 64, 32)               12416     ['attention_7[0][0]']         \n",
            "                                                                                                  \n",
            " lstm_22 (LSTM)              (None, 64, 32)               12416     ['attention_7[0][0]']         \n",
            "                                                                                                  \n",
            " attention_8 (Attention)     (None, 64, 32)               0         ['lstm_21[0][0]',             \n",
            "                                                                     'lstm_22[0][0]']             \n",
            "                                                                                                  \n",
            "==================================================================================================\n",
            "Total params: 412672 (1.57 MB)\n",
            "Trainable params: 412672 (1.57 MB)\n",
            "Non-trainable params: 0 (0.00 Byte)\n",
            "__________________________________________________________________________________________________\n"
          ]
        }
      ]
    },
    {
      "cell_type": "code",
      "source": [
        "def down_sample_disc(filters, input):\n",
        "\n",
        "    cnn0 = layers.Conv2D(filters = filters, kernel_size = (3, 3), activation = tf.keras.activations.relu)(input)\n",
        "    cnn1 = layers.Conv2D(filters = filters, kernel_size = (3, 3), activation = tf.keras.activations.relu)(cnn0)\n",
        "    mp   = layers.MaxPool2D()(cnn1)\n",
        "\n",
        "    return mp"
      ],
      "metadata": {
        "id": "7aCtg4SO4pdW"
      },
      "execution_count": null,
      "outputs": []
    },
    {
      "cell_type": "code",
      "source": [
        "def build_discriminator():\n",
        "\n",
        "    input_layer = tf.keras.Input(shape=( 64, 64, 2))\n",
        "\n",
        "    ds0 = down_sample_disc(16, input_layer)\n",
        "\n",
        "    ds1 = down_sample_disc(32, ds0)\n",
        "\n",
        "    ds2 = down_sample_disc(64, ds1)\n",
        "\n",
        "    flatten = layers.Flatten()(ds2)\n",
        "\n",
        "    dnn = layers.Dense(32, activation='relu')(flatten)\n",
        "    dnn = layers.Dense(16, activation='relu')(dnn)\n",
        "    dnn = layers.Dense(1, activation='sigmoid')(dnn)\n",
        "\n",
        "    return tf.keras.Model(inputs=input_layer, outputs=dnn)"
      ],
      "metadata": {
        "id": "LjtYIPRD4Gt1"
      },
      "execution_count": null,
      "outputs": []
    },
    {
      "cell_type": "code",
      "source": [
        "discriminator = build_discriminator()"
      ],
      "metadata": {
        "id": "bAoWO97fsVF2"
      },
      "execution_count": null,
      "outputs": []
    },
    {
      "cell_type": "code",
      "source": [
        "discriminator.summary()"
      ],
      "metadata": {
        "colab": {
          "base_uri": "https://localhost:8080/"
        },
        "id": "_3QVzyOGsXrM",
        "outputId": "4cd5f8ab-9a4c-40d5-af71-fd0f35d0767e"
      },
      "execution_count": null,
      "outputs": [
        {
          "output_type": "stream",
          "name": "stdout",
          "text": [
            "Model: \"model_2\"\n",
            "_________________________________________________________________\n",
            " Layer (type)                Output Shape              Param #   \n",
            "=================================================================\n",
            " input_6 (InputLayer)        [(None, 64, 64, 2)]       0         \n",
            "                                                                 \n",
            " conv2d_2 (Conv2D)           (None, 62, 62, 16)        304       \n",
            "                                                                 \n",
            " conv2d_3 (Conv2D)           (None, 60, 60, 16)        2320      \n",
            "                                                                 \n",
            " max_pooling2d_1 (MaxPoolin  (None, 30, 30, 16)        0         \n",
            " g2D)                                                            \n",
            "                                                                 \n",
            " conv2d_4 (Conv2D)           (None, 28, 28, 32)        4640      \n",
            "                                                                 \n",
            " conv2d_5 (Conv2D)           (None, 26, 26, 32)        9248      \n",
            "                                                                 \n",
            " max_pooling2d_2 (MaxPoolin  (None, 13, 13, 32)        0         \n",
            " g2D)                                                            \n",
            "                                                                 \n",
            " conv2d_6 (Conv2D)           (None, 11, 11, 64)        18496     \n",
            "                                                                 \n",
            " conv2d_7 (Conv2D)           (None, 9, 9, 64)          36928     \n",
            "                                                                 \n",
            " max_pooling2d_3 (MaxPoolin  (None, 4, 4, 64)          0         \n",
            " g2D)                                                            \n",
            "                                                                 \n",
            " flatten (Flatten)           (None, 1024)              0         \n",
            "                                                                 \n",
            " dense (Dense)               (None, 32)                32800     \n",
            "                                                                 \n",
            " dense_1 (Dense)             (None, 16)                528       \n",
            "                                                                 \n",
            " dense_2 (Dense)             (None, 1)                 17        \n",
            "                                                                 \n",
            "=================================================================\n",
            "Total params: 105281 (411.25 KB)\n",
            "Trainable params: 105281 (411.25 KB)\n",
            "Non-trainable params: 0 (0.00 Byte)\n",
            "_________________________________________________________________\n"
          ]
        }
      ]
    },
    {
      "cell_type": "code",
      "source": [
        "def discriminator_loss(real_output, fake_output):\n",
        "\n",
        "    real_loss = tf.keras.losses.BinaryCrossentropy(tf.ones_like(real_output), real_output)\n",
        "    fake_loss = tf.keras.losses.BinaryCrossentropy(tf.zeros_like(fake_output), fake_output)\n",
        "    total_loss = real_loss + fake_loss\n",
        "    return total_loss"
      ],
      "metadata": {
        "id": "Exf-8GscseP0"
      },
      "execution_count": null,
      "outputs": []
    },
    {
      "cell_type": "code",
      "source": [
        "def generator_loss(fake_output):\n",
        "    return tf.keras.losses.BinaryCrossentropy(tf.ones_like(fake_output), fake_output)"
      ],
      "metadata": {
        "id": "U3_M_Oq6t6VN"
      },
      "execution_count": null,
      "outputs": []
    },
    {
      "cell_type": "code",
      "source": [
        "generator_optimizer = tf.keras.optimizers.Adam(1e-4)\n",
        "discriminator_optimizer = tf.keras.optimizers.Adam(1e-4)"
      ],
      "metadata": {
        "id": "whcdZ08Qu1N4"
      },
      "execution_count": null,
      "outputs": []
    },
    {
      "cell_type": "code",
      "source": [
        "checkpoint_dir = '/content/drive/MyDrive/White Noise project/code/runs/first'\n",
        "checkpoint_prefix = checkpoint_dir + \"/ckpt\"\n",
        "checkpoint = tf.train.Checkpoint(generator_optimizer=generator_optimizer,\n",
        "                                 discriminator_optimizer=discriminator_optimizer,\n",
        "                                 generator=generator,\n",
        "                                 discriminator=discriminator)\n"
      ],
      "metadata": {
        "id": "ZqxIzySOu6aQ"
      },
      "execution_count": null,
      "outputs": []
    },
    {
      "cell_type": "code",
      "source": [
        "train_datagen = datagen()\n",
        "for epoch in EPOCHS:\n",
        "  for step in range(0, DATA_LEN // BATCH_SIZE, BATCH_SIZE):\n",
        "    with tf.GradientTape() as gen_tape, tf.GradientTape() as disc_tape:\n",
        "      generated_images = generator(train_datagen[0])\n",
        "\n",
        "      real_output = discriminator(train_datagen[1])\n",
        "      fake_output = discriminator(generated_images)\n",
        "\n",
        "      gen_loss = generator_loss(fake_output)\n",
        "      disc_loss = discriminator_loss(real_output, fake_output)\n",
        "\n",
        "    gradients_of_generator = gen_tape.gradient(gen_loss, generator.trainable_variables)\n",
        "    gradients_of_discriminator = disc_tape.gradient(disc_loss, discriminator.trainable_variables)\n",
        "\n",
        "    generator_optimizer.apply_gradients(zip(gradients_of_generator, generator.trainable_variables))\n",
        "    discriminator_optimizer.apply_gradients(zip(gradients_of_discriminator, discriminator.trainable_variables))"
      ],
      "metadata": {
        "id": "X49rYDnWvZBf"
      },
      "execution_count": null,
      "outputs": []
    }
  ]
}